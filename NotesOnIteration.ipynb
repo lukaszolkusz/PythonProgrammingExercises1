{
 "cells": [
  {
   "cell_type": "markdown",
   "metadata": {},
   "source": [
    "# Iteration\n",
    "\n",
    "- Iteration = \"looping\"\n",
    "\n",
    "### Counting loops\n",
    "\n",
    "This type of loop always runs 'x' amount of times. - Not infinite.\n",
    "\n",
    "FOR is an example.\n",
    "\n",
    "### Conditional loops\n",
    "\n",
    "This typoe of loop only stops on a condition (or two).\n",
    "\n",
    "WHILE is an example.\n",
    "\n",
    "Never use WHILE True.\n",
    "\n",
    "----------------------\n"
   ]
  },
  {
   "cell_type": "markdown",
   "metadata": {},
   "source": [
    "### Example of a counting loop"
   ]
  },
  {
   "cell_type": "code",
   "execution_count": 16,
   "metadata": {},
   "outputs": [
    {
     "name": "stdout",
     "output_type": "stream",
     "text": [
      "10,9,8,7,6,5,4,3,2,1,0,"
     ]
    }
   ],
   "source": [
    "for counter in range(10,-1,-1):\n",
    "    print(counter, end=\",\") # end=\",\" counts it from left to right instead of listing it down."
   ]
  },
  {
   "cell_type": "code",
   "execution_count": null,
   "metadata": {},
   "outputs": [],
   "source": [
    "for i in range(10,0,-1): #top count down (start,end,steps)\n",
    "    print(i)\n",
    "\n",
    "for o in range(0,11): #bottom count up (start,end,1 is default step)\n",
    "    print(o)"
   ]
  },
  {
   "cell_type": "code",
   "execution_count": 24,
   "metadata": {
    "collapsed": true
   },
   "outputs": [],
   "source": [
    "for i in range (1,100,-1):\n",
    "    print(i) #this is a logical error not a syntax error"
   ]
  },
  {
   "cell_type": "markdown",
   "metadata": {},
   "source": [
    "### Example of a conditional loop"
   ]
  },
  {
   "cell_type": "code",
   "execution_count": null,
   "metadata": {},
   "outputs": [],
   "source": [
    "loopVar = \"x\"\n",
    "while loopVar != \"s\":\n",
    "    loopVar = input(\"do you want to continue? press S to stop\") "
   ]
  },
  {
   "cell_type": "code",
   "execution_count": 2,
   "metadata": {},
   "outputs": [
    {
     "name": "stdout",
     "output_type": "stream",
     "text": [
      "You did not win this time but you have  4  lives left\n",
      "You did not win this time but you have  3  lives left\n",
      "You did not win this time but you have  2  lives left\n",
      "You did not win this time but you have  1  lives left\n",
      "You did not win this time but you have  0  lives left\n",
      "sorry you lost the game\n"
     ]
    }
   ],
   "source": [
    "import random\n",
    "\n",
    "won = False # The game isnt won at the start therefore its set to False\n",
    "lives = 5 # Start with 5 lives\n",
    "\n",
    "while not won and lives > 0 : \n",
    "    lives = lives -1 # lose a life on each round\n",
    "    x = random.randint(0,10)\n",
    "    if x == 10 or x==2:\n",
    "        won = True\n",
    "        print(\"You have won!!!11\")\n",
    "    else:\n",
    "        print(\"You did not win this time but you have \", lives,\" lives left\")\n",
    "\n",
    "# after the loop is done this code runs\n",
    "if lives == 0:\n",
    "    print(\"sorry you lost the game\")"
   ]
  }
 ],
 "metadata": {
  "kernelspec": {
   "display_name": "Python 3",
   "language": "python",
   "name": "python3"
  },
  "language_info": {
   "codemirror_mode": {
    "name": "ipython",
    "version": 3
   },
   "file_extension": ".py",
   "mimetype": "text/x-python",
   "name": "python",
   "nbconvert_exporter": "python",
   "pygments_lexer": "ipython3",
   "version": "3.5.2"
  }
 },
 "nbformat": 4,
 "nbformat_minor": 2
}
