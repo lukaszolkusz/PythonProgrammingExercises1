{
 "cells": [
  {
   "cell_type": "markdown",
   "metadata": {},
   "source": [
    "# For loop exercises"
   ]
  },
  {
   "cell_type": "markdown",
   "metadata": {},
   "source": [
    "### For loop that prints out the numbers 1- 100 separated by stars."
   ]
  },
  {
   "cell_type": "code",
   "execution_count": 12,
   "metadata": {},
   "outputs": [
    {
     "name": "stdout",
     "output_type": "stream",
     "text": [
      "1*2*3*4*5*6*7*8*9*10*11*12*13*14*15*16*17*18*19*20*21*22*23*24*25*26*27*28*29*30*31*32*33*34*35*36*37*38*39*40*41*42*43*44*45*46*47*48*49*50*51*52*53*54*55*56*57*58*59*60*61*62*63*64*65*66*67*68*69*70*71*72*73*74*75*76*77*78*79*80*81*82*83*84*85*86*87*88*89*90*91*92*93*94*95*96*97*98*99*100*"
     ]
    }
   ],
   "source": [
    "for i in range(1,101,1):\n",
    "    print(i, end=\"*\")"
   ]
  },
  {
   "cell_type": "markdown",
   "metadata": {},
   "source": [
    "### For loop that prints out user inputted  message BACKWARDS."
   ]
  },
  {
   "cell_type": "code",
   "execution_count": 8,
   "metadata": {},
   "outputs": [
    {
     "name": "stdout",
     "output_type": "stream",
     "text": [
      "Enter the message: Steven\n",
      "n e v e t S "
     ]
    }
   ],
   "source": [
    "message = input(\"Enter the message: \")\n",
    "for i in range(len(message)-1,-1,-1):\n",
    "    print(message[i], end=\" \")"
   ]
  },
  {
   "cell_type": "markdown",
   "metadata": {},
   "source": [
    "### For loop that prints the numbers from 10 to 1 then prints BLAST OFF."
   ]
  },
  {
   "cell_type": "code",
   "execution_count": null,
   "metadata": {},
   "outputs": [],
   "source": [
    "for i in range(10,0,-1):\n",
    "    print(i)\n",
    "print(\"BLAST OFF\")"
   ]
  },
  {
   "cell_type": "markdown",
   "metadata": {},
   "source": [
    "### For loop that prints out the 7 times table."
   ]
  },
  {
   "cell_type": "code",
   "execution_count": null,
   "metadata": {},
   "outputs": [],
   "source": [
    "for i in range(0,84,7):\n",
    "    print(i)"
   ]
  },
  {
   "cell_type": "markdown",
   "metadata": {},
   "source": [
    "### For loop that prints out all numbers between 1 -1000 that are divisible by 3 and by 4."
   ]
  },
  {
   "cell_type": "code",
   "execution_count": 20,
   "metadata": {},
   "outputs": [
    {
     "name": "stdout",
     "output_type": "stream",
     "text": [
      "12\n",
      "24\n",
      "36\n",
      "48\n",
      "60\n",
      "72\n",
      "84\n",
      "96\n",
      "108\n",
      "120\n",
      "132\n",
      "144\n",
      "156\n",
      "168\n",
      "180\n",
      "192\n",
      "204\n",
      "216\n",
      "228\n",
      "240\n",
      "252\n",
      "264\n",
      "276\n",
      "288\n",
      "300\n",
      "312\n",
      "324\n",
      "336\n",
      "348\n",
      "360\n",
      "372\n",
      "384\n",
      "396\n",
      "408\n",
      "420\n",
      "432\n",
      "444\n",
      "456\n",
      "468\n",
      "480\n",
      "492\n",
      "504\n",
      "516\n",
      "528\n",
      "540\n",
      "552\n",
      "564\n",
      "576\n",
      "588\n",
      "600\n",
      "612\n",
      "624\n",
      "636\n",
      "648\n",
      "660\n",
      "672\n",
      "684\n",
      "696\n",
      "708\n",
      "720\n",
      "732\n",
      "744\n",
      "756\n",
      "768\n",
      "780\n",
      "792\n",
      "804\n",
      "816\n",
      "828\n",
      "840\n",
      "852\n",
      "864\n",
      "876\n",
      "888\n",
      "900\n",
      "912\n",
      "924\n",
      "936\n",
      "948\n",
      "960\n",
      "972\n",
      "984\n",
      "996\n"
     ]
    }
   ],
   "source": [
    "for i in range(1,1001,1):\n",
    "    if i%3==0 and i%4==0 :\n",
    "        print (i)"
   ]
  },
  {
   "cell_type": "markdown",
   "metadata": {},
   "source": [
    "### For loop that prints all the square numbers between 1 and 100."
   ]
  },
  {
   "cell_type": "code",
   "execution_count": 18,
   "metadata": {},
   "outputs": [
    {
     "name": "stdout",
     "output_type": "stream",
     "text": [
      "1\n",
      "4\n",
      "9\n",
      "16\n",
      "25\n",
      "36\n",
      "49\n",
      "64\n",
      "81\n",
      "100\n"
     ]
    }
   ],
   "source": [
    "for i in range(1,11,1):\n",
    "    print(i**2)\n"
   ]
  }
 ],
 "metadata": {
  "kernelspec": {
   "display_name": "Python 3",
   "language": "python",
   "name": "python3"
  },
  "language_info": {
   "codemirror_mode": {
    "name": "ipython",
    "version": 3
   },
   "file_extension": ".py",
   "mimetype": "text/x-python",
   "name": "python",
   "nbconvert_exporter": "python",
   "pygments_lexer": "ipython3",
   "version": "3.5.2"
  }
 },
 "nbformat": 4,
 "nbformat_minor": 2
}
