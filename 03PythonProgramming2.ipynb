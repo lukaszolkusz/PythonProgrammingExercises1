{
 "cells": [
  {
   "cell_type": "markdown",
   "metadata": {},
   "source": [
    "# The Basics of Python\n",
    "\n",
    "**This notebook covers the basics of python language.**"
   ]
  },
  {
   "cell_type": "markdown",
   "metadata": {},
   "source": [
    "## 'IF' / 'ELSE' Statement\n",
    "\n",
    "- Decision making\n",
    "- Conditional statement\n",
    "- Two way selections"
   ]
  },
  {
   "cell_type": "code",
   "execution_count": 9,
   "metadata": {},
   "outputs": [
    {
     "name": "stdout",
     "output_type": "stream",
     "text": [
      "Please enter your age: 17\n",
      "You're too young.\n"
     ]
    }
   ],
   "source": [
    "age = int(input(\"Please enter your age: \")) #\n",
    "\n",
    "if age >= 18:\n",
    "    print(\"You're old enough.\")\n",
    "else:\n",
    "    print(\"You're too young.\")\n"
   ]
  },
  {
   "cell_type": "markdown",
   "metadata": {},
   "source": [
    "## 'IF' / 'ELIF' / 'ELSE' Statement\n",
    "\n",
    "- 'Elif' allows adds more decisions / paths in the program.\n",
    "- Three way selection"
   ]
  },
  {
   "cell_type": "code",
   "execution_count": 31,
   "metadata": {},
   "outputs": [
    {
     "name": "stdout",
     "output_type": "stream",
     "text": [
      "What is your name?Steven\n",
      "Hello Steven\n"
     ]
    }
   ],
   "source": [
    "name = 'Steven'\n",
    "\n",
    "userName = input(\"What is your name?\") #inputs user's response into the variable\n",
    "if userName == name:\n",
    "    print(\"Hello\", userName)\n",
    "elif userName == 'Bob': #elif can be used multiple times but else or if can not\n",
    "    print('Hi', userName)\n",
    "else:\n",
    "    print('Wrong.')"
   ]
  },
  {
   "cell_type": "markdown",
   "metadata": {},
   "source": [
    "### Python logical operators\n",
    "\n",
    "- and - both conditions must be true\n",
    "- or - one condition (or both) must be true\n",
    "- not - only applies to one condition. The opposite.\n"
   ]
  },
  {
   "cell_type": "code",
   "execution_count": 33,
   "metadata": {},
   "outputs": [
    {
     "name": "stdout",
     "output_type": "stream",
     "text": [
      "you are my favourite!!\n"
     ]
    }
   ],
   "source": [
    "name = 'fred'\n",
    "age = 12\n",
    "wonGame = False\n",
    "\n",
    "if age > 10 and name == 'fred':\n",
    "  print('you are my favourite!!')\n",
    "else:\n",
    "  print('not quite there')"
   ]
  },
  {
   "cell_type": "markdown",
   "metadata": {},
   "source": [
    "## Task 1\n",
    "**Write a program that tells the user what to wear (shorts, trousers, hat, coat, etc etc you choose) based on the temperature that they input**\n"
   ]
  },
  {
   "cell_type": "code",
   "execution_count": null,
   "metadata": {
    "collapsed": true
   },
   "outputs": [],
   "source": []
  },
  {
   "cell_type": "markdown",
   "metadata": {},
   "source": []
  },
  {
   "cell_type": "code",
   "execution_count": 41,
   "metadata": {},
   "outputs": [
    {
     "name": "stdout",
     "output_type": "stream",
     "text": [
      "Do I work?yes\n",
      "Yey\n"
     ]
    }
   ],
   "source": [
    "yes = 'yes' # basic short program to check if steven works\n",
    "worksYes = input('Do I work?')\n",
    "if worksYes == yes:\n",
    "    print('Yey')\n",
    "else:\n",
    "    print('useless message that you wont see because steven is dead')"
   ]
  }
 ],
 "metadata": {
  "kernelspec": {
   "display_name": "Python 3",
   "language": "python",
   "name": "python3"
  },
  "language_info": {
   "codemirror_mode": {
    "name": "ipython",
    "version": 3
   },
   "file_extension": ".py",
   "mimetype": "text/x-python",
   "name": "python",
   "nbconvert_exporter": "python",
   "pygments_lexer": "ipython3",
   "version": "3.5.2"
  }
 },
 "nbformat": 4,
 "nbformat_minor": 2
}
